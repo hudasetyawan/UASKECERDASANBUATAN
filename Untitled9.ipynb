{
  "nbformat": 4,
  "nbformat_minor": 0,
  "metadata": {
    "colab": {
      "provenance": [],
      "authorship_tag": "ABX9TyM6xQx79tEKS4LvTHc06eAo",
      "include_colab_link": true
    },
    "kernelspec": {
      "name": "python3",
      "display_name": "Python 3"
    },
    "language_info": {
      "name": "python"
    }
  },
  "cells": [
    {
      "cell_type": "markdown",
      "metadata": {
        "id": "view-in-github",
        "colab_type": "text"
      },
      "source": [
        "<a href=\"https://colab.research.google.com/github/hudasetyawan/UASKECERDASANBUATAN/blob/main/Untitled9.ipynb\" target=\"_parent\"><img src=\"https://colab.research.google.com/assets/colab-badge.svg\" alt=\"Open In Colab\"/></a>"
      ]
    },
    {
      "cell_type": "code",
      "source": [
        "class AnggotaKeluarga:\n",
        "    def __init__(self, nama):\n",
        "        self.nama = nama\n",
        "        self.orang_tua = []\n",
        "        self.anak = []\n",
        "        self.saudara = []\n",
        "\n",
        "    def tambah_orang_tua(self, orang_tua):\n",
        "        self.orang_tua.append(orang_tua)\n",
        "        orang_tua.anak.append(self)\n",
        "\n",
        "    def tambah_saudara(self, saudara):\n",
        "        if saudara not in self.saudara:\n",
        "            self.saudara.append(saudara)\n",
        "            saudara.saudara.append(self)\n",
        "\n",
        "    def hubungan_keluarga(self):\n",
        "        hubungan = {\n",
        "            \"orang_tua\": [o.nama for o in self.orang_tua],\n",
        "            \"anak\": [a.nama for a in self.anak],\n",
        "            \"saudara\": [s.nama for s in self.saudara],\n",
        "        }\n",
        "        return hubungan\n",
        "\n",
        "# Membuat anggota keluarga (berdasarkan Pohon 1)\n",
        "kakek = AnggotaKeluarga(\"Kakek\")\n",
        "nenek = AnggotaKeluarga(\"Nenek\")\n",
        "\n",
        "ayah = AnggotaKeluarga(\"Ayah\")\n",
        "bibi = AnggotaKeluarga(\"Bibi\")\n",
        "paman = AnggotaKeluarga(\"Paman\")\n",
        "\n",
        "anak1 = AnggotaKeluarga(\"Anak 1\")\n",
        "anak2 = AnggotaKeluarga(\"Anak 2\")\n",
        "\n",
        "# Mendefinisikan hubungan\n",
        "ayah.tambah_orang_tua(kakek)\n",
        "ayah.tambah_orang_tua(nenek)\n",
        "\n",
        "bibi.tambah_orang_tua(kakek)\n",
        "bibi.tambah_orang_tua(nenek)\n",
        "\n",
        "paman.tambah_orang_tua(kakek)\n",
        "paman.tambah_orang_tua(nenek)\n",
        "\n",
        "anak1.tambah_orang_tua(ayah)\n",
        "anak2.tambah_orang_tua(ayah)\n",
        "\n",
        "ayah.tambah_saudara(bibi)\n",
        "ayah.tambah_saudara(paman)\n",
        "bibi.tambah_saudara(paman)\n",
        "\n",
        "# Menampilkan hubungan\n",
        "anggota_keluarga = [kakek, nenek, ayah, bibi, paman, anak1, anak2]\n",
        "for anggota in anggota_keluarga:\n",
        "    print(f\"{anggota.nama}:\", anggota.hubungan_keluarga())"
      ],
      "metadata": {
        "colab": {
          "base_uri": "https://localhost:8080/"
        },
        "id": "-Rb3hofy0rwV",
        "outputId": "aed6068b-fe4c-40f1-b9a6-e79d622abc28"
      },
      "execution_count": 9,
      "outputs": [
        {
          "output_type": "stream",
          "name": "stdout",
          "text": [
            "Kakek: {'orang_tua': [], 'anak': ['Ayah', 'Bibi', 'Paman'], 'saudara': []}\n",
            "Nenek: {'orang_tua': [], 'anak': ['Ayah', 'Bibi', 'Paman'], 'saudara': []}\n",
            "Ayah: {'orang_tua': ['Kakek', 'Nenek'], 'anak': ['Anak 1', 'Anak 2'], 'saudara': ['Bibi', 'Paman']}\n",
            "Bibi: {'orang_tua': ['Kakek', 'Nenek'], 'anak': [], 'saudara': ['Ayah', 'Paman']}\n",
            "Paman: {'orang_tua': ['Kakek', 'Nenek'], 'anak': [], 'saudara': ['Ayah', 'Bibi']}\n",
            "Anak 1: {'orang_tua': ['Ayah'], 'anak': [], 'saudara': []}\n",
            "Anak 2: {'orang_tua': ['Ayah'], 'anak': [], 'saudara': []}\n"
          ]
        }
      ]
    }
  ]
}